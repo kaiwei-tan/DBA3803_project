{
 "cells": [
  {
   "cell_type": "markdown",
   "metadata": {},
   "source": [
    "Machine Learning Plus. (2018). Topic Modeling with Gensim (Python). Retrieved April 1, 2019 from https://www.machinelearningplus.com/nlp/topic-modeling-gensim-python/"
   ]
  },
  {
   "cell_type": "markdown",
   "metadata": {},
   "source": [
    "Import libraries"
   ]
  },
  {
   "cell_type": "code",
   "execution_count": 1,
   "metadata": {},
   "outputs": [
    {
     "name": "stdout",
     "output_type": "stream",
     "text": [
      "[nltk_data] Downloading package stopwords to\n",
      "[nltk_data]     C:\\Users\\TKW\\AppData\\Roaming\\nltk_data...\n",
      "[nltk_data]   Package stopwords is already up-to-date!\n",
      "[nltk_data] Downloading package punkt to\n",
      "[nltk_data]     C:\\Users\\TKW\\AppData\\Roaming\\nltk_data...\n",
      "[nltk_data]   Package punkt is already up-to-date!\n",
      "[nltk_data] Downloading package wordnet to\n",
      "[nltk_data]     C:\\Users\\TKW\\AppData\\Roaming\\nltk_data...\n",
      "[nltk_data]   Package wordnet is already up-to-date!\n",
      "[nltk_data] Downloading package averaged_perceptron_tagger to\n",
      "[nltk_data]     C:\\Users\\TKW\\AppData\\Roaming\\nltk_data...\n",
      "[nltk_data]   Package averaged_perceptron_tagger is already up-to-\n",
      "[nltk_data]       date!\n"
     ]
    }
   ],
   "source": [
    "import re, string\n",
    "import numpy as np\n",
    "import pandas as pd\n",
    "from pprint import pprint\n",
    "import nltk\n",
    "from nltk.corpus import stopwords\n",
    "from nltk.corpus import wordnet\n",
    "from nltk.tokenize import word_tokenize\n",
    "from nltk.stem import WordNetLemmatizer \n",
    "import sklearn\n",
    "from sklearn.linear_model import LogisticRegression\n",
    "from sklearn.feature_extraction.text import CountVectorizer, TfidfVectorizer\n",
    "from sklearn.model_selection import cross_val_score\n",
    "from sklearn.metrics import classification_report\n",
    "from sklearn.metrics import accuracy_score\n",
    "lemmatizer = WordNetLemmatizer()\n",
    "nltk.download('stopwords')\n",
    "nltk.download('punkt')\n",
    "nltk.download('wordnet')\n",
    "nltk.download('averaged_perceptron_tagger')\n",
    "\n",
    "# Gensim\n",
    "import gensim\n",
    "import gensim.corpora as corpora\n",
    "from gensim.utils import simple_preprocess\n",
    "from gensim.models import CoherenceModel\n",
    "\n",
    "# spacy for lemmatization\n",
    "import spacy\n",
    "\n",
    "# Plotting tools\n",
    "import pyLDAvis\n",
    "import pyLDAvis.gensim  # don't skip this\n",
    "import matplotlib.pyplot as plt\n",
    "%matplotlib inline\n",
    "\n",
    "# Enable logging for gensim - optional\n",
    "import logging\n",
    "logging.basicConfig(format='%(asctime)s : %(levelname)s : %(message)s', level=logging.ERROR)\n",
    "\n",
    "import warnings\n",
    "warnings.filterwarnings(\"ignore\",category=DeprecationWarning)"
   ]
  },
  {
   "cell_type": "markdown",
   "metadata": {},
   "source": [
    "Import training data"
   ]
  },
  {
   "cell_type": "code",
   "execution_count": 2,
   "metadata": {
    "scrolled": true
   },
   "outputs": [
    {
     "name": "stdout",
     "output_type": "stream",
     "text": [
      "31418\n"
     ]
    },
    {
     "data": {
      "text/html": [
       "<div>\n",
       "<style scoped>\n",
       "    .dataframe tbody tr th:only-of-type {\n",
       "        vertical-align: middle;\n",
       "    }\n",
       "\n",
       "    .dataframe tbody tr th {\n",
       "        vertical-align: top;\n",
       "    }\n",
       "\n",
       "    .dataframe thead th {\n",
       "        text-align: right;\n",
       "    }\n",
       "</style>\n",
       "<table border=\"1\" class=\"dataframe\">\n",
       "  <thead>\n",
       "    <tr style=\"text-align: right;\">\n",
       "      <th></th>\n",
       "      <th>Comments</th>\n",
       "      <th>Insulting</th>\n",
       "      <th>Anti Government</th>\n",
       "      <th>Xenophobic</th>\n",
       "      <th>Racist</th>\n",
       "      <th>Sexual</th>\n",
       "    </tr>\n",
       "  </thead>\n",
       "  <tbody>\n",
       "    <tr>\n",
       "      <th>0</th>\n",
       "      <td>FUCK FOREIGN TALENT</td>\n",
       "      <td>1</td>\n",
       "      <td>0</td>\n",
       "      <td>1</td>\n",
       "      <td>0</td>\n",
       "      <td>0</td>\n",
       "    </tr>\n",
       "    <tr>\n",
       "      <th>1</th>\n",
       "      <td>I LOVE THE GOVERNMENT</td>\n",
       "      <td>0</td>\n",
       "      <td>0</td>\n",
       "      <td>0</td>\n",
       "      <td>0</td>\n",
       "      <td>0</td>\n",
       "    </tr>\n",
       "    <tr>\n",
       "      <th>2</th>\n",
       "      <td>WOMEN SHOULD BE IN THE KITCHEN</td>\n",
       "      <td>1</td>\n",
       "      <td>0</td>\n",
       "      <td>0</td>\n",
       "      <td>0</td>\n",
       "      <td>0</td>\n",
       "    </tr>\n",
       "    <tr>\n",
       "      <th>3</th>\n",
       "      <td>I still don't know how he was crushed. What we...</td>\n",
       "      <td>1</td>\n",
       "      <td>1</td>\n",
       "      <td>0</td>\n",
       "      <td>0</td>\n",
       "      <td>0</td>\n",
       "    </tr>\n",
       "    <tr>\n",
       "      <th>4</th>\n",
       "      <td>In the first place how did a doctor become a d...</td>\n",
       "      <td>1</td>\n",
       "      <td>1</td>\n",
       "      <td>0</td>\n",
       "      <td>0</td>\n",
       "      <td>0</td>\n",
       "    </tr>\n",
       "  </tbody>\n",
       "</table>\n",
       "</div>"
      ],
      "text/plain": [
       "                                            Comments  Insulting  \\\n",
       "0                                FUCK FOREIGN TALENT          1   \n",
       "1                              I LOVE THE GOVERNMENT          0   \n",
       "2                     WOMEN SHOULD BE IN THE KITCHEN          1   \n",
       "3  I still don't know how he was crushed. What we...          1   \n",
       "4  In the first place how did a doctor become a d...          1   \n",
       "\n",
       "   Anti Government  Xenophobic  Racist  Sexual  \n",
       "0                0           1       0       0  \n",
       "1                0           0       0       0  \n",
       "2                0           0       0       0  \n",
       "3                1           0       0       0  \n",
       "4                1           0       0       0  "
      ]
     },
     "execution_count": 2,
     "metadata": {},
     "output_type": "execute_result"
    }
   ],
   "source": [
    "train = pd.read_csv(\"C:/Users/TKW/Desktop/train.csv\")\n",
    "print(len(train))\n",
    "train.head(5)"
   ]
  },
  {
   "cell_type": "markdown",
   "metadata": {},
   "source": [
    "Import stopwords and text cleaning"
   ]
  },
  {
   "cell_type": "code",
   "execution_count": 3,
   "metadata": {},
   "outputs": [],
   "source": [
    "# NLTK Stop words\n",
    "from nltk.corpus import stopwords\n",
    "stop_words = stopwords.words('english')\n",
    "stop_words.extend(['from','subject','re','edu','use','got','get','include','includ','including',\n",
    "                   'like','go','u','also','liao','still','one','ah','1','2','take','say','think',\n",
    "                   'due','really','need','anyone','well','many','want','go','come','year','make',\n",
    "                   'ah','go','wah','go','good','see','know'])"
   ]
  },
  {
   "cell_type": "code",
   "execution_count": 4,
   "metadata": {},
   "outputs": [],
   "source": [
    "def get_wordnet_pos(word):\n",
    "    tag = nltk.pos_tag([word])[0][1][0].upper()\n",
    "    tag_dict = {\"J\": wordnet.ADJ,\n",
    "                \"N\": wordnet.NOUN,\n",
    "                \"V\": wordnet.VERB,\n",
    "                \"R\": wordnet.ADV}\n",
    "    return tag_dict.get(tag, wordnet.NOUN)\n",
    "\n",
    "def cleaning(sentences):\n",
    "    result = []\n",
    "    for text in sentences:\n",
    "        text = str(text)\n",
    "        text = text.lower()\n",
    "        text = re.sub(r\"\\'m\", \" am\", text)\n",
    "        text = re.sub(r\"\\'s\", \" is\", text)\n",
    "        text = re.sub(r\"\\'ll\", \" will\", text)\n",
    "        text = re.sub(r\"\\'ve\", \" have\", text)\n",
    "        text = re.sub(r\"\\'re\", \" are\", text)\n",
    "        text = re.sub(r\"won\\'t\", \"will not\", text)\n",
    "        text = re.sub(r\"can\\'t\", \"cannot\", text)\n",
    "        text = re.sub(r\"n\\'t\", \" not\", text)\n",
    "        text = re.sub(r\"\\'bout\", \"about\", text)\n",
    "        text = re.sub(r\"\\'til\", \"until\", text)\n",
    "        text = re.sub(r\"\"\"[^a-zA-Z0-9-!$%^&@*()+|=`{}\\[\\]:;\"'<>?,.\\/\\s]\"\"\",\" \",text)\n",
    "        text = re.sub(r\"\\bft\\b|\\bforeigntalent\\b\",\"foreign talent\",text)\n",
    "        text = re.sub(r\"\\bgovt\\b|\\bgahment\\b|\\bgahmen\\b|\\bgov\\b\",\"government\",text)\n",
    "        text = re.sub(r\"\\bpapies\\b|\\bpapees\\b\",\"pappies\",text)\n",
    "        text = re.sub(r\"\\bchi bai\\b|\\bchibai\\b|\\bchee bye\\b|\\bcheebye\\b\",\"cb\",text)\n",
    "        text = re.sub(r\"\\bfk\\b|\\bfck\\b\",\"fuck\",text)\n",
    "        text = re.sub(r\"\\bkanina\\b|\\bkanena\\b\",\"knn\",text)\n",
    "        text = re.sub(r\"\\blky\\b\",\"lee kuan yew\",text)\n",
    "        text = re.sub(r\"\\blhl\\b|\\bpm lee\\b\",\"lee hsien loong\",text)\n",
    "        if len(text.split()) == 0:\n",
    "            continue\n",
    "        then = []\n",
    "        for word in text.split():\n",
    "            if word not in stop_words:\n",
    "                then.append(word)\n",
    "        result.append(then)\n",
    "    result = [\" \".join(x) for x in result]\n",
    "    return result"
   ]
  },
  {
   "cell_type": "code",
   "execution_count": 5,
   "metadata": {
    "scrolled": true
   },
   "outputs": [
    {
     "data": {
      "text/html": [
       "<div>\n",
       "<style scoped>\n",
       "    .dataframe tbody tr th:only-of-type {\n",
       "        vertical-align: middle;\n",
       "    }\n",
       "\n",
       "    .dataframe tbody tr th {\n",
       "        vertical-align: top;\n",
       "    }\n",
       "\n",
       "    .dataframe thead th {\n",
       "        text-align: right;\n",
       "    }\n",
       "</style>\n",
       "<table border=\"1\" class=\"dataframe\">\n",
       "  <thead>\n",
       "    <tr style=\"text-align: right;\">\n",
       "      <th></th>\n",
       "      <th>Comments</th>\n",
       "      <th>Insulting</th>\n",
       "      <th>Anti Government</th>\n",
       "      <th>Xenophobic</th>\n",
       "      <th>Racist</th>\n",
       "      <th>Sexual</th>\n",
       "    </tr>\n",
       "  </thead>\n",
       "  <tbody>\n",
       "    <tr>\n",
       "      <th>0</th>\n",
       "      <td>fuck foreign talent</td>\n",
       "      <td>1</td>\n",
       "      <td>0</td>\n",
       "      <td>1</td>\n",
       "      <td>0</td>\n",
       "      <td>0</td>\n",
       "    </tr>\n",
       "    <tr>\n",
       "      <th>1</th>\n",
       "      <td>love government</td>\n",
       "      <td>0</td>\n",
       "      <td>0</td>\n",
       "      <td>0</td>\n",
       "      <td>0</td>\n",
       "      <td>0</td>\n",
       "    </tr>\n",
       "    <tr>\n",
       "      <th>2</th>\n",
       "      <td>women kitchen</td>\n",
       "      <td>1</td>\n",
       "      <td>0</td>\n",
       "      <td>0</td>\n",
       "      <td>0</td>\n",
       "      <td>0</td>\n",
       "    </tr>\n",
       "    <tr>\n",
       "      <th>3</th>\n",
       "      <td>crushed. 3 material time accident happened. ne...</td>\n",
       "      <td>1</td>\n",
       "      <td>1</td>\n",
       "      <td>0</td>\n",
       "      <td>0</td>\n",
       "      <td>0</td>\n",
       "    </tr>\n",
       "    <tr>\n",
       "      <th>4</th>\n",
       "      <td>first place doctor become defense minister mil...</td>\n",
       "      <td>1</td>\n",
       "      <td>1</td>\n",
       "      <td>0</td>\n",
       "      <td>0</td>\n",
       "      <td>0</td>\n",
       "    </tr>\n",
       "  </tbody>\n",
       "</table>\n",
       "</div>"
      ],
      "text/plain": [
       "                                            Comments  Insulting  \\\n",
       "0                                fuck foreign talent          1   \n",
       "1                                    love government          0   \n",
       "2                                      women kitchen          1   \n",
       "3  crushed. 3 material time accident happened. ne...          1   \n",
       "4  first place doctor become defense minister mil...          1   \n",
       "\n",
       "   Anti Government  Xenophobic  Racist  Sexual  \n",
       "0                0           1       0       0  \n",
       "1                0           0       0       0  \n",
       "2                0           0       0       0  \n",
       "3                1           0       0       0  \n",
       "4                1           0       0       0  "
      ]
     },
     "execution_count": 5,
     "metadata": {},
     "output_type": "execute_result"
    }
   ],
   "source": [
    "clean_train = cleaning(train[\"Comments\"])\n",
    "train['Comments'] = clean_train\n",
    "train.head(5)"
   ]
  },
  {
   "cell_type": "markdown",
   "metadata": {},
   "source": [
    "Tokenise words"
   ]
  },
  {
   "cell_type": "code",
   "execution_count": 6,
   "metadata": {},
   "outputs": [],
   "source": [
    "def sent_to_words(sentences):\n",
    "    for sentence in sentences:\n",
    "        yield(gensim.utils.simple_preprocess(str(sentence), deacc=True))  # deacc=True removes punctuations\n",
    "\n",
    "data_words = list(sent_to_words(train['Comments']))"
   ]
  },
  {
   "cell_type": "markdown",
   "metadata": {},
   "source": [
    "Create bigrams and trigrams"
   ]
  },
  {
   "cell_type": "code",
   "execution_count": 7,
   "metadata": {},
   "outputs": [
    {
     "name": "stdout",
     "output_type": "stream",
     "text": [
      "['fuck', 'foreign_talent']\n"
     ]
    }
   ],
   "source": [
    "# Build the bigram and trigram models\n",
    "bigram = gensim.models.Phrases(data_words, min_count=5, threshold=100) # higher threshold fewer phrases.\n",
    "trigram = gensim.models.Phrases(bigram[data_words], threshold=100)  \n",
    "\n",
    "# Faster way to get a sentence clubbed as a trigram/bigram\n",
    "bigram_mod = gensim.models.phrases.Phraser(bigram)\n",
    "trigram_mod = gensim.models.phrases.Phraser(trigram)\n",
    "\n",
    "# See trigram example\n",
    "print(trigram_mod[bigram_mod[data_words[0]]])"
   ]
  },
  {
   "cell_type": "code",
   "execution_count": 8,
   "metadata": {},
   "outputs": [],
   "source": [
    "# Define functions for bigrams, trigrams, and lemmatization\n",
    "\n",
    "def remove_stopwords(texts):\n",
    "    return [[word for word in simple_preprocess(str(doc)) if word not in stop_words] for doc in texts]\n",
    "\n",
    "def make_bigrams(texts):\n",
    "    return [bigram_mod[doc] for doc in texts]\n",
    "\n",
    "def make_trigrams(texts):\n",
    "    return [trigram_mod[bigram_mod[doc]] for doc in texts]\n",
    "\n",
    "def lemmatization(texts, allowed_postags=['NOUN', 'ADJ', 'VERB', 'ADV']):\n",
    "    \"\"\"https://spacy.io/api/annotation\"\"\"\n",
    "    texts_out = []\n",
    "    for sent in texts:\n",
    "        doc = nlp(\" \".join(sent)) \n",
    "        texts_out.append([token.lemma_ for token in doc if token.pos_ in allowed_postags])\n",
    "    return texts_out"
   ]
  },
  {
   "cell_type": "code",
   "execution_count": 9,
   "metadata": {},
   "outputs": [
    {
     "name": "stdout",
     "output_type": "stream",
     "text": [
      "[['fuck', 'foreign_talent']]\n"
     ]
    }
   ],
   "source": [
    "# Remove Stop Words\n",
    "data_words_nostops = remove_stopwords(data_words)\n",
    "\n",
    "# Form Bigrams\n",
    "data_words_bigrams = make_bigrams(data_words_nostops)\n",
    "\n",
    "# Initialize spacy 'en' model, keeping only tagger component (for efficiency)\n",
    "# python3 -m spacy download en\n",
    "nlp = spacy.load('en', disable=['parser', 'ner'])\n",
    "\n",
    "# Do lemmatization keeping only noun, adj, vb, adv\n",
    "data_lemmatized = lemmatization(data_words_bigrams, allowed_postags=['NOUN', 'ADJ', 'VERB', 'ADV'])\n",
    "\n",
    "print(data_lemmatized[:1])"
   ]
  },
  {
   "cell_type": "code",
   "execution_count": 10,
   "metadata": {},
   "outputs": [],
   "source": [
    "# Create Dictionary\n",
    "id2word = corpora.Dictionary(data_lemmatized)\n",
    "\n",
    "# Create Corpus\n",
    "texts = data_lemmatized\n",
    "\n",
    "# Term Document Frequency\n",
    "corpus = [id2word.doc2bow(text) for text in texts]"
   ]
  },
  {
   "cell_type": "markdown",
   "metadata": {},
   "source": [
    "Output some examples of terms"
   ]
  },
  {
   "cell_type": "code",
   "execution_count": 11,
   "metadata": {},
   "outputs": [
    {
     "data": {
      "text/plain": [
       "[[('foreign_talent', 1), ('fuck', 1)],\n",
       " [('government', 1), ('love', 1)],\n",
       " [('kitchen', 1), ('woman', 1)],\n",
       " [('accident', 1),\n",
       "  ('crush', 1),\n",
       "  ('day', 1),\n",
       "  ('enlighten', 1),\n",
       "  ('happen', 1),\n",
       "  ('major', 1),\n",
       "  ('material', 1),\n",
       "  ('need', 1),\n",
       "  ('new', 1),\n",
       "  ('nothing', 1),\n",
       "  ('surgery', 1),\n",
       "  ('time', 1)]]"
      ]
     },
     "execution_count": 11,
     "metadata": {},
     "output_type": "execute_result"
    }
   ],
   "source": [
    "# Excerpt of human readable format of corpus (term-frequency)\n",
    "[[(id2word[id], freq) for id, freq in cp] for cp in corpus[:4]]"
   ]
  },
  {
   "cell_type": "markdown",
   "metadata": {},
   "source": [
    "Iterate models and obtain coherence values "
   ]
  },
  {
   "cell_type": "code",
   "execution_count": 12,
   "metadata": {},
   "outputs": [],
   "source": [
    "def compute_coherence_values(dictionary, corpus, texts, limit, start=2, step=3):\n",
    "    \"\"\"\n",
    "    Compute c_v coherence for various number of topics\n",
    "\n",
    "    Parameters:\n",
    "    ----------\n",
    "    dictionary : Gensim dictionary\n",
    "    corpus : Gensim corpus\n",
    "    texts : List of input texts\n",
    "    limit : Max num of topics\n",
    "\n",
    "    Returns:\n",
    "    -------\n",
    "    model_list : List of LDA topic models\n",
    "    coherence_values : Coherence values corresponding to the LDA model with respective number of topics\n",
    "    \"\"\"\n",
    "    coherence_values = []\n",
    "    model_list = []\n",
    "    for num_topics in range(start, limit, step):\n",
    "        model = gensim.models.ldamodel.LdaModel(corpus=corpus,\n",
    "                                           id2word=id2word,\n",
    "                                           num_topics=num_topics, \n",
    "                                           random_state=100,\n",
    "                                           update_every=1,\n",
    "                                           chunksize=100,\n",
    "                                           passes=10,\n",
    "                                           alpha='auto',\n",
    "                                           per_word_topics=True)\n",
    "        model_list.append(model)\n",
    "        coherencemodel = CoherenceModel(model=model, texts=texts, dictionary=dictionary, coherence='c_v')\n",
    "        coherence_values.append(coherencemodel.get_coherence())\n",
    "\n",
    "    return model_list, coherence_values"
   ]
  },
  {
   "cell_type": "code",
   "execution_count": 15,
   "metadata": {},
   "outputs": [],
   "source": [
    "# Calculate coherence values from 5 to 19 topics.\n",
    "model_list, coherence_values = compute_coherence_values(dictionary=id2word, corpus=corpus, texts=data_lemmatized, start=5, limit=20, step=1)"
   ]
  },
  {
   "cell_type": "markdown",
   "metadata": {},
   "source": [
    "Determine best number of topics using coherence value"
   ]
  },
  {
   "cell_type": "code",
   "execution_count": 16,
   "metadata": {},
   "outputs": [
    {
     "data": {
      "text/plain": [
       "[0.24256735276366612,\n",
       " 0.21779495242508418,\n",
       " 0.28315220919434275,\n",
       " 0.2615400957632768,\n",
       " 0.2859719844960509,\n",
       " 0.2906892159870193,\n",
       " 0.3081965137076001,\n",
       " 0.29595836319041685,\n",
       " 0.29095642244292874,\n",
       " 0.31324908659521944,\n",
       " 0.3237098272206155,\n",
       " 0.32850557163478344,\n",
       " 0.3199870324181098,\n",
       " 0.3115856661777123,\n",
       " 0.3117569130933564]"
      ]
     },
     "execution_count": 16,
     "metadata": {},
     "output_type": "execute_result"
    }
   ],
   "source": [
    "coherence_values"
   ]
  },
  {
   "cell_type": "code",
   "execution_count": 19,
   "metadata": {},
   "outputs": [
    {
     "data": {
      "image/png": "[encoded data removed]",
      "text/plain": [
       "<Figure size 432x288 with 1 Axes>"
      ]
     },
     "metadata": {},
     "output_type": "display_data"
    }
   ],
   "source": [
    "# Show graph\n",
    "start=5\n",
    "limit=20\n",
    "step=1\n",
    "x = range(start, limit, step)\n",
    "plt.plot(x, coherence_values)\n",
    "plt.xticks([4,6,8,10,12,14,16,18,20])\n",
    "plt.xlabel(\"Num Topics\")\n",
    "plt.ylabel(\"Coherence score\")\n",
    "plt.legend((\"coherence_values\"), loc='best')\n",
    "plt.show()"
   ]
  },
  {
   "cell_type": "markdown",
   "metadata": {},
   "source": [
    "Generate topics"
   ]
  },
  {
   "cell_type": "code",
   "execution_count": 20,
   "metadata": {},
   "outputs": [
    {
     "name": "stdout",
     "output_type": "stream",
     "text": [
      "0.32850557163478344\n"
     ]
    }
   ],
   "source": [
    "print(max(coherence_values))\n",
    "\n",
    "# 16 topics gives the highest coherence value\n",
    "lda_model = gensim.models.ldamodel.LdaModel(corpus=corpus,\n",
    "                                           id2word=id2word,\n",
    "                                           num_topics=16, \n",
    "                                           random_state=100,\n",
    "                                           update_every=1,\n",
    "                                           chunksize=100,\n",
    "                                           passes=10,\n",
    "                                           alpha='auto',\n",
    "                                           per_word_topics=True)"
   ]
  },
  {
   "cell_type": "code",
   "execution_count": 21,
   "metadata": {},
   "outputs": [
    {
     "name": "stdout",
     "output_type": "stream",
     "text": [
      "[(0,\n",
      "  '0.158*\"go\" + 0.121*\"look\" + 0.079*\"back\" + 0.069*\"love\" + 0.060*\"actually\" '\n",
      "  '+ 0.057*\"always\" + 0.056*\"get\" + 0.045*\"long\" + 0.045*\"lot\" + '\n",
      "  '0.044*\"story\"'),\n",
      " (1,\n",
      "  '0.179*\"time\" + 0.132*\"day\" + 0.073*\"first\" + 0.065*\"quite\" + 0.050*\"place\" '\n",
      "  '+ 0.049*\"high\" + 0.040*\"must\" + 0.035*\"night\" + 0.029*\"especially\" + '\n",
      "  '0.023*\"become\"'),\n",
      " (2,\n",
      "  '0.181*\"give\" + 0.130*\"new\" + 0.080*\"last\" + 0.069*\"well\" + 0.061*\"week\" + '\n",
      "  '0.058*\"year\" + 0.053*\"month\" + 0.051*\"next\" + 0.022*\"write\" + '\n",
      "  '0.014*\"block\"'),\n",
      " (3,\n",
      "  '0.117*\"find\" + 0.077*\"singaporean\" + 0.068*\"anything\" + 0.044*\"police\" + '\n",
      "  '0.039*\"woman\" + 0.039*\"idea\" + 0.036*\"government\" + 0.035*\"course\" + '\n",
      "  '0.035*\"taste\" + 0.032*\"law\"'),\n",
      " (4,\n",
      "  '0.169*\"thank\" + 0.089*\"may\" + 0.066*\"already\" + 0.057*\"old\" + 0.056*\"show\" '\n",
      "  '+ 0.046*\"better\" + 0.042*\"watch\" + 0.039*\"level\" + 0.035*\"eye\" + '\n",
      "  '0.023*\"pass\"'),\n",
      " (5,\n",
      "  '0.168*\"people\" + 0.123*\"would\" + 0.094*\"money\" + 0.068*\"help\" + '\n",
      "  '0.040*\"burn\" + 0.039*\"good\" + 0.031*\"issue\" + 0.028*\"report\" + '\n",
      "  '0.027*\"public\" + 0.025*\"allow\"'),\n",
      " (6,\n",
      "  '0.152*\"singapore\" + 0.087*\"bad\" + 0.082*\"pay\" + 0.059*\"run\" + 0.051*\"learn\" '\n",
      "  '+ 0.045*\"enough\" + 0.037*\"agree\" + 0.034*\"pm\" + 0.032*\"country\" + '\n",
      "  '0.032*\"lose\"'),\n",
      " (7,\n",
      "  '0.110*\"try\" + 0.081*\"man\" + 0.077*\"s\" + 0.067*\"tell\" + 0.066*\"guy\" + '\n",
      "  '0.058*\"come\" + 0.049*\"probably\" + 0.038*\"life\" + 0.032*\"change\" + '\n",
      "  '0.032*\"date\"'),\n",
      " (8,\n",
      "  '0.140*\"ask\" + 0.075*\"someone\" + 0.074*\"lol\" + 0.061*\"happen\" + 0.059*\"buy\" '\n",
      "  '+ 0.058*\"maybe\" + 0.050*\"video\" + 0.039*\"read\" + 0.039*\"wait\" + '\n",
      "  '0.033*\"nothing\"'),\n",
      " (9,\n",
      "  '0.084*\"live\" + 0.079*\"could\" + 0.058*\"let\" + 0.050*\"family\" + 0.046*\"sign\" '\n",
      "  '+ 0.041*\"stop\" + 0.040*\"case\" + 0.038*\"hope\" + 0.037*\"offer\" + '\n",
      "  '0.034*\"head\"'),\n",
      " (10,\n",
      "  '0.187*\"work\" + 0.157*\"fuck\" + 0.058*\"area\" + 0.053*\"instead\" + 0.045*\"need\" '\n",
      "  '+ 0.027*\"house\" + 0.022*\"later\" + 0.021*\"picture\" + 0.020*\"whole\" + '\n",
      "  '0.017*\"treat\"'),\n",
      " (11,\n",
      "  '0.191*\"not\" + 0.108*\"be\" + 0.096*\"even\" + 0.093*\"do\" + 0.054*\"sure\" + '\n",
      "  '0.043*\"mean\" + 0.041*\"pretty\" + 0.041*\"lah\" + 0.038*\"something\" + '\n",
      "  '0.021*\"water\"'),\n",
      " (12,\n",
      "  '0.103*\"take\" + 0.088*\"job\" + 0.087*\"keep\" + 0.055*\"wrong\" + 0.048*\"end\" + '\n",
      "  '0.047*\"paper\" + 0.035*\"person\" + 0.034*\"spend\" + 0.027*\"die\" + '\n",
      "  '0.027*\"safe\"'),\n",
      " (13,\n",
      "  '0.070*\"much\" + 0.062*\"thing\" + 0.055*\"friend\" + 0.044*\"think\" + '\n",
      "  '0.041*\"post\" + 0.032*\"hear\" + 0.031*\"seem\" + 0.030*\"guess\" + 0.026*\"start\" '\n",
      "  '+ 0.025*\"today\"'),\n",
      " (14,\n",
      "  '0.114*\"say\" + 0.097*\"use\" + 0.085*\"never\" + 0.080*\"feel\" + 0.078*\"way\" + '\n",
      "  '0.064*\"see\" + 0.050*\"girl\" + 0.045*\"wonder\" + 0.044*\"kind\" + 0.032*\"far\"'),\n",
      " (15,\n",
      "  '0.093*\"right\" + 0.082*\"make\" + 0.077*\"big\" + 0.069*\"call\" + 0.053*\"chinese\" '\n",
      "  '+ 0.044*\"open\" + 0.042*\"happy\" + 0.041*\"free\" + 0.039*\"check\" + '\n",
      "  '0.031*\"white\"')]\n"
     ]
    }
   ],
   "source": [
    "# Print the keywords in the 16 topics\n",
    "pprint(lda_model.print_topics())\n",
    "doc_lda = lda_model[corpus]"
   ]
  }
 ],
 "metadata": {
  "kernelspec": {
   "display_name": "Python 3",
   "language": "python",
   "name": "python3"
  },
  "language_info": {
   "codemirror_mode": {
    "name": "ipython",
    "version": 3
   },
   "file_extension": ".py",
   "mimetype": "text/x-python",
   "name": "python",
   "nbconvert_exporter": "python",
   "pygments_lexer": "ipython3",
   "version": "3.6.5"
  }
 },
 "nbformat": 4,
 "nbformat_minor": 2
}
